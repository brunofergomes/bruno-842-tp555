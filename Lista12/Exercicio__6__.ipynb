{
 "cells": [
  {
   "cell_type": "code",
   "execution_count": 7,
   "metadata": {},
   "outputs": [],
   "source": [
    "import numpy as np\n",
    "import matplotlib.pyplot as plt\n",
    "import tensorflow.compat.v1 as tf\n",
    "tf.disable_v2_behavior()"
   ]
  },
  {
   "cell_type": "code",
   "execution_count": 8,
   "metadata": {},
   "outputs": [],
   "source": [
    "(X_train, y_train), (X_test, y_test) = tf.keras.datasets.mnist.load_data()\n",
    "X_train = X_train.astype(np.float32).reshape(-1, 28*28) / 255.0\n",
    "X_test = X_test.astype(np.float32).reshape(-1, 28*28) / 255.0\n",
    "y_train = y_train.astype(np.int32)\n",
    "y_test = y_test.astype(np.int32)\n",
    "X_valid, X_train = X_train[:5000], X_train[5000:]\n",
    "y_valid, y_train = y_train[:5000], y_train[5000:]"
   ]
  },
  {
   "cell_type": "code",
   "execution_count": 9,
   "metadata": {},
   "outputs": [],
   "source": [
    "def reset_graph(seed=42):\n",
    "    tf.reset_default_graph()\n",
    "    tf.set_random_seed(seed)\n",
    "    np.random.seed(seed)\n",
    "    \n",
    "def shuffle_batch(X, y, batch_size):\n",
    "    rnd_idx = np.random.permutation(len(X))\n",
    "    n_batches = len(X) // batch_size\n",
    "    for batch_idx in np.array_split(rnd_idx, n_batches):\n",
    "        X_batch, y_batch = X[batch_idx], y[batch_idx]\n",
    "        yield X_batch, y_batch"
   ]
  },
  {
   "cell_type": "code",
   "execution_count": 10,
   "metadata": {},
   "outputs": [],
   "source": [
    "n_inputs = 28*28  # MNIST\n",
    "n_hidden1 = 300\n",
    "n_hidden2 = 100\n",
    "n_outputs = 10\n",
    "learning_rate = 0.01"
   ]
  },
  {
   "cell_type": "code",
   "execution_count": 11,
   "metadata": {},
   "outputs": [],
   "source": [
    "reset_graph()\n",
    "\n",
    "X = tf.placeholder(tf.float32, shape=(None, n_inputs), name=\"X\")\n",
    "y = tf.placeholder(tf.int32, shape=(None), name=\"y\")"
   ]
  },
  {
   "cell_type": "code",
   "execution_count": 12,
   "metadata": {},
   "outputs": [
    {
     "name": "stdout",
     "output_type": "stream",
     "text": [
      "WARNING:tensorflow:From <ipython-input-12-9874d3e63b53>:3: dense (from tensorflow.python.layers.core) is deprecated and will be removed in a future version.\n",
      "Instructions for updating:\n",
      "Use keras.layers.Dense instead.\n",
      "WARNING:tensorflow:From /srv/conda/envs/notebook/lib/python3.6/site-packages/tensorflow/python/layers/core.py:187: Layer.apply (from tensorflow.python.keras.engine.base_layer_v1) is deprecated and will be removed in a future version.\n",
      "Instructions for updating:\n",
      "Please use `layer.__call__` method instead.\n"
     ]
    }
   ],
   "source": [
    "with tf.name_scope(\"dnn\"):\n",
    "    hidden1 = tf.layers.dense(X, n_hidden1, name=\"hidden1\",\n",
    "                              activation=tf.nn.relu)\n",
    "    hidden2 = tf.layers.dense(hidden1, n_hidden2, name=\"hidden2\",\n",
    "                              activation=tf.nn.relu)\n",
    "    logits = tf.layers.dense(hidden2, n_outputs, name=\"outputs\")\n",
    "    y_proba = tf.nn.softmax(logits)\n",
    "    \n",
    "with tf.name_scope(\"loss\"):\n",
    "    xentropy = tf.nn.sparse_softmax_cross_entropy_with_logits(labels=y, logits=logits)\n",
    "    loss = tf.reduce_mean(xentropy, name=\"loss\")\n",
    "\n",
    "with tf.name_scope(\"train\"):\n",
    "    optimizer = tf.train.GradientDescentOptimizer(learning_rate)\n",
    "    training_op = optimizer.minimize(loss)\n",
    "    \n",
    "with tf.name_scope(\"eval\"):\n",
    "    correct = tf.nn.in_top_k(logits, y, 1)\n",
    "    accuracy = tf.reduce_mean(tf.cast(correct, tf.float32))\n",
    "    \n",
    "init = tf.global_variables_initializer()\n",
    "saver = tf.train.Saver()"
   ]
  },
  {
   "cell_type": "code",
   "execution_count": 13,
   "metadata": {},
   "outputs": [
    {
     "name": "stdout",
     "output_type": "stream",
     "text": [
      "0 Batch accuracy: 0.9 Validation accuracy: 0.906\n",
      "1 Batch accuracy: 0.92 Validation accuracy: 0.927\n",
      "2 Batch accuracy: 0.94 Validation accuracy: 0.9348\n",
      "3 Batch accuracy: 0.9 Validation accuracy: 0.9402\n",
      "4 Batch accuracy: 0.94 Validation accuracy: 0.944\n",
      "5 Batch accuracy: 0.94 Validation accuracy: 0.948\n",
      "6 Batch accuracy: 1.0 Validation accuracy: 0.9538\n",
      "7 Batch accuracy: 0.94 Validation accuracy: 0.9582\n",
      "8 Batch accuracy: 0.96 Validation accuracy: 0.9608\n",
      "9 Batch accuracy: 0.9 Validation accuracy: 0.9616\n",
      "10 Batch accuracy: 0.9 Validation accuracy: 0.9634\n",
      "11 Batch accuracy: 1.0 Validation accuracy: 0.9648\n",
      "12 Batch accuracy: 0.98 Validation accuracy: 0.9658\n",
      "13 Batch accuracy: 0.98 Validation accuracy: 0.9664\n",
      "14 Batch accuracy: 1.0 Validation accuracy: 0.9676\n",
      "15 Batch accuracy: 0.92 Validation accuracy: 0.9694\n",
      "16 Batch accuracy: 1.0 Validation accuracy: 0.97\n",
      "17 Batch accuracy: 1.0 Validation accuracy: 0.9696\n",
      "18 Batch accuracy: 0.98 Validation accuracy: 0.9706\n",
      "19 Batch accuracy: 0.96 Validation accuracy: 0.973\n",
      "20 Batch accuracy: 1.0 Validation accuracy: 0.9742\n",
      "21 Batch accuracy: 1.0 Validation accuracy: 0.9728\n",
      "22 Batch accuracy: 0.96 Validation accuracy: 0.9732\n",
      "23 Batch accuracy: 0.98 Validation accuracy: 0.973\n",
      "24 Batch accuracy: 0.98 Validation accuracy: 0.9742\n",
      "25 Batch accuracy: 1.0 Validation accuracy: 0.9762\n",
      "26 Batch accuracy: 0.96 Validation accuracy: 0.9756\n",
      "27 Batch accuracy: 1.0 Validation accuracy: 0.9756\n",
      "28 Batch accuracy: 0.94 Validation accuracy: 0.976\n",
      "29 Batch accuracy: 1.0 Validation accuracy: 0.9774\n",
      "30 Batch accuracy: 0.98 Validation accuracy: 0.9754\n",
      "31 Batch accuracy: 0.94 Validation accuracy: 0.977\n",
      "32 Batch accuracy: 0.96 Validation accuracy: 0.9768\n",
      "33 Batch accuracy: 0.98 Validation accuracy: 0.9778\n",
      "34 Batch accuracy: 1.0 Validation accuracy: 0.9776\n",
      "35 Batch accuracy: 0.98 Validation accuracy: 0.9768\n",
      "36 Batch accuracy: 0.98 Validation accuracy: 0.977\n",
      "37 Batch accuracy: 1.0 Validation accuracy: 0.9786\n",
      "38 Batch accuracy: 0.98 Validation accuracy: 0.9782\n",
      "39 Batch accuracy: 1.0 Validation accuracy: 0.9786\n"
     ]
    }
   ],
   "source": [
    "n_epochs = 20\n",
    "n_batches = 50\n",
    "n_epochs = 40\n",
    "batch_size = 50\n",
    "\n",
    "with tf.Session() as sess:\n",
    "    init.run()\n",
    "    for epoch in range(n_epochs):\n",
    "        for X_batch, y_batch in shuffle_batch(X_train, y_train, batch_size):\n",
    "            sess.run(training_op, feed_dict={X: X_batch, y: y_batch})\n",
    "        acc_batch = accuracy.eval(feed_dict={X: X_batch, y: y_batch})\n",
    "        acc_valid = accuracy.eval(feed_dict={X: X_valid, y: y_valid})\n",
    "        print(epoch, \"Batch accuracy:\", acc_batch, \"Validation accuracy:\", acc_valid)\n",
    "\n",
    "    save_path = saver.save(sess, \"./my_model_final.ckpt\")"
   ]
  },
  {
   "cell_type": "markdown",
   "metadata": {},
   "source": [
    "Podemos perceber que em relação ao desempenho, a classe dense perde um pouco a sua qualificação. Ou seja, a classe dense é menos robusta doque a função Neuron_layer."
   ]
  },
  {
   "cell_type": "code",
   "execution_count": null,
   "metadata": {},
   "outputs": [],
   "source": []
  }
 ],
 "metadata": {
  "kernelspec": {
   "display_name": "Python 3",
   "language": "python",
   "name": "python3"
  },
  "language_info": {
   "codemirror_mode": {
    "name": "ipython",
    "version": 3
   },
   "file_extension": ".py",
   "mimetype": "text/x-python",
   "name": "python",
   "nbconvert_exporter": "python",
   "pygments_lexer": "ipython3",
   "version": "3.6.10"
  }
 },
 "nbformat": 4,
 "nbformat_minor": 2
}
