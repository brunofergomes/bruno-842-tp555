{
 "cells": [
  {
   "cell_type": "code",
   "execution_count": 1,
   "metadata": {},
   "outputs": [],
   "source": [
    "import numpy as np\n",
    "import matplotlib.pyplot as plt\n",
    "\n",
    "# Gera um vetor randomico com distribuição gaussiana normal, com N = 1000000 amostras.\n",
    "data = np.random.randn(1000000)"
   ]
  },
  {
   "cell_type": "code",
   "execution_count": 3,
   "metadata": {},
   "outputs": [
    {
     "data": {
      "text/plain": [
       "(array([1.05644282e-05, 1.05644282e-05, 1.05644282e-05, 4.22577127e-05,\n",
       "        1.05644282e-05, 5.28221409e-05, 6.33865691e-05, 7.39509973e-05,\n",
       "        1.90159707e-04, 1.69030851e-04, 2.95803989e-04, 4.85963696e-04,\n",
       "        7.07816688e-04, 7.81767686e-04, 1.02474953e-03, 1.47901995e-03,\n",
       "        2.47207620e-03, 3.04255532e-03, 4.10956256e-03, 5.50406708e-03,\n",
       "        7.42679301e-03, 9.41290551e-03, 1.26244917e-02, 1.55614027e-02,\n",
       "        1.97343518e-02, 2.37593990e-02, 3.03516022e-02, 3.80425059e-02,\n",
       "        4.49938996e-02, 5.59492117e-02, 6.79609665e-02, 7.82401551e-02,\n",
       "        9.41079263e-02, 1.09764409e-01, 1.29245214e-01, 1.45651771e-01,\n",
       "        1.68037795e-01, 1.86895299e-01, 2.07907947e-01, 2.32755482e-01,\n",
       "        2.52595478e-01, 2.77950106e-01, 3.03568844e-01, 3.20989586e-01,\n",
       "        3.43090370e-01, 3.57024851e-01, 3.68772495e-01, 3.81143440e-01,\n",
       "        3.94010914e-01, 3.97444353e-01, 4.00529166e-01, 3.95849124e-01,\n",
       "        3.93831318e-01, 3.83161246e-01, 3.69871195e-01, 3.56200825e-01,\n",
       "        3.38991372e-01, 3.19246455e-01, 2.98645820e-01, 2.74337071e-01,\n",
       "        2.55310536e-01, 2.32766046e-01, 2.08679150e-01, 1.86324820e-01,\n",
       "        1.64942417e-01, 1.44489684e-01, 1.25072265e-01, 1.08549500e-01,\n",
       "        9.18999608e-02, 7.95818375e-02, 6.64185600e-02, 5.42694676e-02,\n",
       "        4.46558379e-02, 3.82537945e-02, 3.00980559e-02, 2.39284298e-02,\n",
       "        1.92483882e-02, 1.37654499e-02, 1.24554608e-02, 9.16992366e-03,\n",
       "        7.49017958e-03, 5.68366236e-03, 4.01448271e-03, 2.96860432e-03,\n",
       "        2.29248092e-03, 1.70087294e-03, 1.22547367e-03, 8.55718683e-04,\n",
       "        5.70479122e-04, 4.96528125e-04, 4.12012699e-04, 1.37337566e-04,\n",
       "        1.69030851e-04, 6.33865691e-05, 1.26773138e-04, 3.16932846e-05,\n",
       "        4.22577127e-05, 1.05644282e-05, 1.05644282e-05, 3.16932846e-05]),\n",
       " array([-4.7768693 , -4.68221202, -4.58755474, -4.49289747, -4.39824019,\n",
       "        -4.30358291, -4.20892564, -4.11426836, -4.01961109, -3.92495381,\n",
       "        -3.83029653, -3.73563926, -3.64098198, -3.5463247 , -3.45166743,\n",
       "        -3.35701015, -3.26235287, -3.1676956 , -3.07303832, -2.97838104,\n",
       "        -2.88372377, -2.78906649, -2.69440921, -2.59975194, -2.50509466,\n",
       "        -2.41043738, -2.31578011, -2.22112283, -2.12646555, -2.03180828,\n",
       "        -1.937151  , -1.84249373, -1.74783645, -1.65317917, -1.5585219 ,\n",
       "        -1.46386462, -1.36920734, -1.27455007, -1.17989279, -1.08523551,\n",
       "        -0.99057824, -0.89592096, -0.80126368, -0.70660641, -0.61194913,\n",
       "        -0.51729185, -0.42263458, -0.3279773 , -0.23332002, -0.13866275,\n",
       "        -0.04400547,  0.05065181,  0.14530908,  0.23996636,  0.33462363,\n",
       "         0.42928091,  0.52393819,  0.61859546,  0.71325274,  0.80791002,\n",
       "         0.90256729,  0.99722457,  1.09188185,  1.18653912,  1.2811964 ,\n",
       "         1.37585368,  1.47051095,  1.56516823,  1.65982551,  1.75448278,\n",
       "         1.84914006,  1.94379734,  2.03845461,  2.13311189,  2.22776917,\n",
       "         2.32242644,  2.41708372,  2.51174099,  2.60639827,  2.70105555,\n",
       "         2.79571282,  2.8903701 ,  2.98502738,  3.07968465,  3.17434193,\n",
       "         3.26899921,  3.36365648,  3.45831376,  3.55297104,  3.64762831,\n",
       "         3.74228559,  3.83694287,  3.93160014,  4.02625742,  4.1209147 ,\n",
       "         4.21557197,  4.31022925,  4.40488653,  4.4995438 ,  4.59420108,\n",
       "         4.68885835]),\n",
       " <a list of 100 Patch objects>)"
      ]
     },
     "execution_count": 3,
     "metadata": {},
     "output_type": "execute_result"
    },
    {
     "data": {
      "image/png": "[encoded data removed]",
      "text/plain": [
       "<Figure size 432x288 with 1 Axes>"
      ]
     },
     "metadata": {
      "needs_background": "light"
     },
     "output_type": "display_data"
    }
   ],
   "source": [
    "# histograma (pdf)\n",
    "plt.subplot(1, 2, 1)\n",
    "plt.title('PDF')\n",
    "plt.hist(data , bins=100, density=True , color='b')\n",
    "\n",
    "          \n",
    "# normed foi discontinuada, assim, modifiquei para density"
   ]
  },
  {
   "cell_type": "code",
   "execution_count": 4,
   "metadata": {},
   "outputs": [
    {
     "data": {
      "image/png": "[encoded data removed]",
      "text/plain": [
       "<Figure size 432x288 with 1 Axes>"
      ]
     },
     "metadata": {
      "needs_background": "light"
     },
     "output_type": "display_data"
    }
   ],
   "source": [
    "# CDF empirica\n",
    "plt.subplot(1, 2, 2)\n",
    "plt.title('CDF')\n",
    "plt.hist(data , bins=100, density=True , color='g', cumulative=True)\n",
    "plt.savefig('histogram.png') # salva figura em arquivo\n"
   ]
  },
  {
   "cell_type": "code",
   "execution_count": null,
   "metadata": {},
   "outputs": [],
   "source": []
  }
 ],
 "metadata": {
  "kernelspec": {
   "display_name": "Python 3",
   "language": "python",
   "name": "python3"
  },
  "language_info": {
   "codemirror_mode": {
    "name": "ipython",
    "version": 3
   },
   "file_extension": ".py",
   "mimetype": "text/x-python",
   "name": "python",
   "nbconvert_exporter": "python",
   "pygments_lexer": "ipython3",
   "version": "3.6.10"
  }
 },
 "nbformat": 4,
 "nbformat_minor": 4
}
