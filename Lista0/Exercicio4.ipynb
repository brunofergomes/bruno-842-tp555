{
 "cells": [
  {
   "cell_type": "code",
   "execution_count": 68,
   "metadata": {},
   "outputs": [],
   "source": [
    "import numpy as np\n",
    "import matplotlib.pyplot as plt\n",
    "\n",
    "%matplotlib inline"
   ]
  },
  {
   "cell_type": "code",
   "execution_count": 69,
   "metadata": {},
   "outputs": [
    {
     "ename": "TypeError",
     "evalue": "zip argument #1 must support iteration",
     "output_type": "error",
     "traceback": [
      "\u001b[0;31m---------------------------------------------------------------------------\u001b[0m",
      "\u001b[0;31mTypeError\u001b[0m                                 Traceback (most recent call last)",
      "\u001b[0;32m<ipython-input-69-f5ef279bb76f>\u001b[0m in \u001b[0;36m<module>\u001b[0;34m\u001b[0m\n\u001b[1;32m      5\u001b[0m \u001b[0my1\u001b[0m \u001b[0;34m=\u001b[0m \u001b[0mnp\u001b[0m\u001b[0;34m.\u001b[0m\u001b[0mrandom\u001b[0m\u001b[0;34m.\u001b[0m\u001b[0muniform\u001b[0m\u001b[0;34m(\u001b[0m\u001b[0;36m10000\u001b[0m\u001b[0;34m)\u001b[0m\u001b[0;34m\u001b[0m\u001b[0;34m\u001b[0m\u001b[0m\n\u001b[1;32m      6\u001b[0m \u001b[0;34m\u001b[0m\u001b[0m\n\u001b[0;32m----> 7\u001b[0;31m \u001b[0mz\u001b[0m \u001b[0;34m=\u001b[0m \u001b[0;34m[\u001b[0m\u001b[0mx\u001b[0m \u001b[0;34m+\u001b[0m \u001b[0my\u001b[0m \u001b[0;32mfor\u001b[0m \u001b[0mx\u001b[0m\u001b[0;34m,\u001b[0m \u001b[0my\u001b[0m \u001b[0;32min\u001b[0m \u001b[0mzip\u001b[0m\u001b[0;34m(\u001b[0m\u001b[0mx1\u001b[0m\u001b[0;34m,\u001b[0m \u001b[0my1\u001b[0m\u001b[0;34m)\u001b[0m\u001b[0;34m]\u001b[0m\u001b[0;34m\u001b[0m\u001b[0;34m\u001b[0m\u001b[0m\n\u001b[0m",
      "\u001b[0;31mTypeError\u001b[0m: zip argument #1 must support iteration"
     ]
    }
   ],
   "source": [
    "#Distribuição Aleatória Uniforme 1\n",
    "x1 = np.random.uniform(10000)\n",
    "\n",
    "#Distribuição Aleatória Uniforme 2\n",
    "y1 = np.random.uniform(10000)\n",
    "\n",
    "z = [x + y for x, y in zip(x1, y1)]"
   ]
  },
  {
   "cell_type": "code",
   "execution_count": 70,
   "metadata": {},
   "outputs": [
    {
     "data": {
      "text/plain": [
       "(array([0.00086213, 0.        , 0.00086213, 0.        , 0.        ,\n",
       "        0.00086213, 0.00172426, 0.        , 0.00172426, 0.00086213,\n",
       "        0.00086213, 0.00258639, 0.00431065, 0.00517277, 0.01120768,\n",
       "        0.00517277, 0.00431065, 0.00862129, 0.01465619, 0.02155323,\n",
       "        0.01896684, 0.02413961, 0.03879581, 0.03793368, 0.06034903,\n",
       "        0.04914136, 0.06034903, 0.07155671, 0.06983245, 0.08966142,\n",
       "        0.09914484, 0.11207678, 0.11724955, 0.11811168, 0.14914833,\n",
       "        0.16466665, 0.17328794, 0.21122162, 0.21639439, 0.22932633,\n",
       "        0.22673994, 0.25260381, 0.2491553 , 0.23967188, 0.25863872,\n",
       "        0.28450259, 0.29053749, 0.29484814, 0.30691794, 0.29484814,\n",
       "        0.29829665, 0.29312388, 0.27760555, 0.25260381, 0.21725652,\n",
       "        0.20346246, 0.21639439, 0.20863523, 0.17242581, 0.20346246,\n",
       "        0.16811517, 0.15949387, 0.13104362, 0.11983594, 0.11552529,\n",
       "        0.09914484, 0.07931587, 0.07759161, 0.07155671, 0.06034903,\n",
       "        0.05172774, 0.04655497, 0.02845026, 0.03017452, 0.03362303,\n",
       "        0.02241536, 0.01982897, 0.01206981, 0.00862129, 0.01120768,\n",
       "        0.00517277, 0.00775916, 0.0060349 , 0.00431065, 0.00517277,\n",
       "        0.00172426, 0.00258639, 0.        , 0.00086213, 0.        ,\n",
       "        0.        , 0.00086213, 0.        , 0.        , 0.        ,\n",
       "        0.        , 0.        , 0.        , 0.00086213, 0.00086213]),\n",
       " array([-5.58237312, -5.46638121, -5.35038929, -5.23439738, -5.11840546,\n",
       "        -5.00241355, -4.88642163, -4.77042972, -4.6544378 , -4.53844589,\n",
       "        -4.42245397, -4.30646206, -4.19047014, -4.07447822, -3.95848631,\n",
       "        -3.84249439, -3.72650248, -3.61051056, -3.49451865, -3.37852673,\n",
       "        -3.26253482, -3.1465429 , -3.03055099, -2.91455907, -2.79856716,\n",
       "        -2.68257524, -2.56658333, -2.45059141, -2.3345995 , -2.21860758,\n",
       "        -2.10261567, -1.98662375, -1.87063183, -1.75463992, -1.638648  ,\n",
       "        -1.52265609, -1.40666417, -1.29067226, -1.17468034, -1.05868843,\n",
       "        -0.94269651, -0.8267046 , -0.71071268, -0.59472077, -0.47872885,\n",
       "        -0.36273694, -0.24674502, -0.13075311, -0.01476119,  0.10123072,\n",
       "         0.21722264,  0.33321456,  0.44920647,  0.56519839,  0.6811903 ,\n",
       "         0.79718222,  0.91317413,  1.02916605,  1.14515796,  1.26114988,\n",
       "         1.37714179,  1.49313371,  1.60912562,  1.72511754,  1.84110945,\n",
       "         1.95710137,  2.07309328,  2.1890852 ,  2.30507711,  2.42106903,\n",
       "         2.53706095,  2.65305286,  2.76904478,  2.88503669,  3.00102861,\n",
       "         3.11702052,  3.23301244,  3.34900435,  3.46499627,  3.58098818,\n",
       "         3.6969801 ,  3.81297201,  3.92896393,  4.04495584,  4.16094776,\n",
       "         4.27693967,  4.39293159,  4.50892351,  4.62491542,  4.74090734,\n",
       "         4.85689925,  4.97289117,  5.08888308,  5.204875  ,  5.32086691,\n",
       "         5.43685883,  5.55285074,  5.66884266,  5.78483457,  5.90082649,\n",
       "         6.0168184 ]),\n",
       " <a list of 100 Patch objects>)"
      ]
     },
     "execution_count": 70,
     "metadata": {},
     "output_type": "execute_result"
    },
    {
     "data": {
      "image/png": "[encoded data removed]",
      "text/plain": [
       "<Figure size 432x288 with 1 Axes>"
      ]
     },
     "metadata": {
      "needs_background": "light"
     },
     "output_type": "display_data"
    }
   ],
   "source": [
    "plt.title('Histograma Z')\n",
    "plt.hist(z , bins=100, density=True , color='b')"
   ]
  },
  {
   "cell_type": "code",
   "execution_count": null,
   "metadata": {},
   "outputs": [],
   "source": []
  }
 ],
 "metadata": {
  "kernelspec": {
   "display_name": "Python 3",
   "language": "python",
   "name": "python3"
  },
  "language_info": {
   "codemirror_mode": {
    "name": "ipython",
    "version": 3
   },
   "file_extension": ".py",
   "mimetype": "text/x-python",
   "name": "python",
   "nbconvert_exporter": "python",
   "pygments_lexer": "ipython3",
   "version": "3.6.10"
  }
 },
 "nbformat": 4,
 "nbformat_minor": 4
}
