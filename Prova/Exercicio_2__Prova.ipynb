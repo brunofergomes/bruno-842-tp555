{
 "cells": [
  {
   "cell_type": "markdown",
   "metadata": {},
   "source": [
    " Questão 2! Prova\n",
    " \n",
    " Classes: Compra PC / Não Compra PC --> Sim / Não\n",
    " \n",
    " Potanto, definimos: P(S) e P(N) como as probabilidades das classes específicas.\n",
    " \n",
    " Seguindo o Teorma de Bayes definido como:  P(cq|x) = (P(x|cq)*P(cq))/P(x)\n",
    " \n",
    " Atributos necessários: idade <=30 --> I30\n",
    "                        renda = Média --> RM\n",
    "                        estudante = Sim --> ES\n",
    "                        classificação de crédito = Boa --> CCB\n",
    "                        \n",
    "Assim, definimos as probabilidades de interesse, ao qual buscamos, que definem as chances de compra ou nao compra à partir dos atributos especificos que temos:\n",
    "\n",
    "P(S|I30,RM,ES,CCB) = ?\n",
    "\n",
    "P(N|I30,RM,ES,CCB) = ?\n",
    "\n",
    "Dados: Observando da tabela, para cada um dos atributos (idade, renda, estudante e classificação de crédito), específicos para as regras que necessitamos, , tiramos as probabilidades de cada acontecimento como:\n",
    "\n",
    "\n",
    "P(I30|S) = 2/9 ------------ P(I30) = 5/14\n",
    "\n",
    "P(RM|S) = 4/9 ------------ P(RM) = 6/14\n",
    "\n",
    "P(ES|S) = 6/9 ------------ P(ES) = 7/14 = 0.5\n",
    "\n",
    "P(CCB|S) = 6/9 ------------ P(CCB) = 8/14\n",
    "\n",
    "P(S) = 9/14                    \n",
    " \n",
    " \n",
    " \n",
    "Método de Cálculo:\n",
    "\n",
    "P(S|I30,RM,ES,CCB) = ( P(I30|S)* P(RM|S)* P(ES|S)* P(CCB|S)* P(S) ) / ( P(I30)* P(RM)* P(ES)* P(CCB) )\n",
    "\n",
    "\n",
    "= ( 2/9* 4/9* 6/9* 6/9* 9/14 )/ ( 5/14* 6/14* 1/2* 8/14  ) = ( 2592/91854 ) / ( 240/5488 ) ==>>>\n",
    "\n",
    "\n",
    "P(S|I30,RM,ES,CCB) = 0.64526 ~= 64.5%\n",
    "\n",
    "e,\n",
    "\n",
    "P(N|I30,RM,ES,CCB) = 1 - P(S|I30,RM,ES,CCB) ==>>>\n",
    "\n",
    "\n",
    "P(N|I30,RM,ES,CCB) = 1 - 0.64526 = 0.35474 ~= 35.47%\n",
    "\n",
    "\n",
    "Resposta: Baseado nas probabilidades encontradas, pode-se dizer que há uma chance de 64.5% de a pessoa comprar o PC. Ou seja, as chances de comprar são maiores do que as chances de não comprar (para os atributos definidos na questão). \n",
    "\n",
    " \n",
    " \n",
    " \n",
    " "
   ]
  },
  {
   "cell_type": "code",
   "execution_count": null,
   "metadata": {},
   "outputs": [],
   "source": []
  }
 ],
 "metadata": {
  "kernelspec": {
   "display_name": "Python 3",
   "language": "python",
   "name": "python3"
  },
  "language_info": {
   "codemirror_mode": {
    "name": "ipython",
    "version": 3
   },
   "file_extension": ".py",
   "mimetype": "text/x-python",
   "name": "python",
   "nbconvert_exporter": "python",
   "pygments_lexer": "ipython3",
   "version": "3.6.10"
  }
 },
 "nbformat": 4,
 "nbformat_minor": 4
}
