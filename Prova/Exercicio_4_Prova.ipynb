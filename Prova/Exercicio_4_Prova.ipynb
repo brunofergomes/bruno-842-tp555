{
 "cells": [
  {
   "cell_type": "code",
   "execution_count": 11,
   "metadata": {},
   "outputs": [],
   "source": [
    "# Import all necessary libraries\n",
    "import numpy as np\n",
    "import matplotlib.pyplot as plt\n",
    "from matplotlib.colors import ListedColormap\n",
    "from sklearn.neighbors import KNeighborsClassifier\n",
    "from sklearn.model_selection import train_test_split\n",
    "from sklearn.metrics import confusion_matrix, accuracy_score, roc_curve, auc, classification_report\n",
    "import seaborn as sns\n",
    "from scipy.special import erfc"
   ]
  },
  {
   "cell_type": "code",
   "execution_count": 12,
   "metadata": {},
   "outputs": [],
   "source": [
    "mapping_table = [-3-3j, -3-1j, -3+3j, -3+1j, -1-3j, -1-1j, -1+3j, -1+1j, 3-3j, 3-1j, 3+3j, 3+1j, 1-3j,\n",
    "1-1j, 1+3j, 1+1j]\n",
    "\n",
    "def mod(bits):\n",
    "    symbols = np.zeros((len(bits),),dtype=complex)\n",
    "    for i in range(0,len(bits)): \n",
    "        symbols[i] = mapping_table[bits[i]]/np.sqrt(10)\n",
    "    return symbols"
   ]
  },
  {
   "cell_type": "code",
   "execution_count": 13,
   "metadata": {},
   "outputs": [],
   "source": [
    "N = 160\n",
    "\n",
    "# Generate N 4-bit symbols.\n",
    "bits = np.random.randint(0,16,N)\n",
    "\n",
    "# Modulate the binary stream into 16QAM symbols.\n",
    "symbols = mod(bits)"
   ]
  },
  {
   "cell_type": "code",
   "execution_count": 14,
   "metadata": {},
   "outputs": [
    {
     "name": "stdout",
     "output_type": "stream",
     "text": [
      "Es/N0 dB: 0\n",
      "117\n",
      "[0.73125 0.      0.      0.      0.      0.      0.      0.      0.\n",
      " 0.      0.     ]\n",
      "Es/N0 dB: 2\n",
      "113\n",
      "[0.73125 0.70625 0.      0.      0.      0.      0.      0.      0.\n",
      " 0.      0.     ]\n",
      "Es/N0 dB: 4\n",
      "97\n",
      "[0.73125 0.70625 0.60625 0.      0.      0.      0.      0.      0.\n",
      " 0.      0.     ]\n",
      "Es/N0 dB: 6\n",
      "78\n",
      "[0.73125 0.70625 0.60625 0.4875  0.      0.      0.      0.      0.\n",
      " 0.      0.     ]\n",
      "Es/N0 dB: 8\n",
      "50\n",
      "[0.73125 0.70625 0.60625 0.4875  0.3125  0.      0.      0.      0.\n",
      " 0.      0.     ]\n",
      "Es/N0 dB: 10\n",
      "32\n",
      "[0.73125 0.70625 0.60625 0.4875  0.3125  0.2     0.      0.      0.\n",
      " 0.      0.     ]\n",
      "Es/N0 dB: 12\n",
      "17\n",
      "[0.73125 0.70625 0.60625 0.4875  0.3125  0.2     0.10625 0.      0.\n",
      " 0.      0.     ]\n",
      "Es/N0 dB: 14\n",
      "6\n",
      "[0.73125 0.70625 0.60625 0.4875  0.3125  0.2     0.10625 0.0375  0.\n",
      " 0.      0.     ]\n",
      "Es/N0 dB: 16\n",
      "0\n",
      "[0.73125 0.70625 0.60625 0.4875  0.3125  0.2     0.10625 0.0375  0.\n",
      " 0.      0.     ]\n",
      "Es/N0 dB: 18\n",
      "0\n",
      "[0.73125 0.70625 0.60625 0.4875  0.3125  0.2     0.10625 0.0375  0.\n",
      " 0.      0.     ]\n",
      "Es/N0 dB: 20\n",
      "0\n",
      "[0.73125 0.70625 0.60625 0.4875  0.3125  0.2     0.10625 0.0375  0.\n",
      " 0.      0.     ]\n"
     ]
    }
   ],
   "source": [
    "# Create Es/N0 vector.\n",
    "EsN0dB = np.arange(0,22,2)\n",
    "\n",
    "ser_simu = np.zeros(len(EsN0dB))\n",
    "ser_theo = np.zeros(len(EsN0dB))\n",
    "\n",
    "for idx in range(0,len(EsN0dB)):\n",
    "    print('Es/N0 dB:', EsN0dB[idx])\n",
    "    \n",
    "    EsN0Lin = 10.0**(-(EsN0dB[idx]/10.0))\n",
    "    noise = np.sqrt(1.0/2.0)*(np.random.randn(N, 1) + 1j*np.random.randn(N, 1))\n",
    "    noise = np.sqrt(EsN0Lin)*noise\n",
    "    \n",
    "    #Passar os símbolos através de um canal AWGN\n",
    "    yn = []\n",
    "    error = 0\n",
    "    \n",
    "    for i in range(0, N):\n",
    "        yn.append(symbols[i] + noise[i])\n",
    "\n",
    "    Yn = np.array(yn)\n",
    "    ynr = Yn.real\n",
    "    yni = Yn.imag\n",
    "    \n",
    "    Ynoise = np.c_[ynr, yni]\n",
    "    \n",
    "    y = np.array(symbols)\n",
    "    yr = y.real\n",
    "    yi = y.imag\n",
    "    Y = np.c_[yr, yi]\n",
    "    \n",
    "    clf = KNeighborsClassifier(10, weights='distance')\n",
    "    \n",
    "    # Training the model\n",
    "    clf.fit(Y, bits)\n",
    "    \n",
    "    #Prediction \n",
    "    bits_pred = clf.predict(Ynoise)\n",
    "    bits_pred = bits_pred.reshape(N,1)\n",
    "    \n",
    "    error=0\n",
    "    \n",
    "    for i in range(0,N):\n",
    "        if(bits_pred[i] == bits[i]):\n",
    "            error = error\n",
    "        else:\n",
    "            error = error + 1\n",
    "    \n",
    "    ser_simu[idx] = 1.0 * error / N\n",
    "    print(error)\n",
    "    print(ser_simu)\n",
    "    \n",
    "    # Theoretical MQAM BER.\n",
    "    M = 16\n",
    "    k = np.sqrt(3/(2*(M-1)))\n",
    "    ser_theo[idx] = (2*(1-(1/np.sqrt(M)))*erfc(k*np.sqrt(10.0**(EsN0dB[idx]/10.0))))-((1-(2/np.sqrt(M))+(1/M))*erfc(k*np.sqrt(10.0**(EsN0dB[idx]/10.0)))**2)"
   ]
  },
  {
   "cell_type": "code",
   "execution_count": 15,
   "metadata": {},
   "outputs": [
    {
     "data": {
      "image/png": "[encoded data removed]",
      "text/plain": [
       "<Figure size 504x504 with 1 Axes>"
      ]
     },
     "metadata": {
      "needs_background": "light"
     },
     "output_type": "display_data"
    }
   ],
   "source": [
    "fig = plt.figure(figsize=(7,7))\n",
    "\n",
    "plt.plot(EsN0dB, ser_theo, label='theoretical')\n",
    "plt.plot(EsN0dB, ser_simu, 'ro', label='simulated')\n",
    "\n",
    "plt.xscale('linear')\n",
    "plt.yscale('log')\n",
    "\n",
    "plt.xlabel('Es/N0 [dB]')\n",
    "plt.ylabel('SER')\n",
    "\n",
    "plt.grid(True)\n",
    "\n",
    "plt.title('Detecção MQAM')\n",
    "\n",
    "plt.legend()\n",
    "\n",
    "\n",
    "plt.show()"
   ]
  },
  {
   "cell_type": "markdown",
   "metadata": {},
   "source": [
    "Podemos dizer que os resultados simulados se aproximam sim dos resultados teóricos. Baseados em dados utilizados para o treinamento do modelo, conseguimos fazer com que o algoritmo encontre esta curva próxima ao modelo teórico."
   ]
  },
  {
   "cell_type": "code",
   "execution_count": null,
   "metadata": {},
   "outputs": [],
   "source": []
  }
 ],
 "metadata": {
  "kernelspec": {
   "display_name": "Python 3",
   "language": "python",
   "name": "python3"
  },
  "language_info": {
   "codemirror_mode": {
    "name": "ipython",
    "version": 3
   },
   "file_extension": ".py",
   "mimetype": "text/x-python",
   "name": "python",
   "nbconvert_exporter": "python",
   "pygments_lexer": "ipython3",
   "version": "3.6.10"
  }
 },
 "nbformat": 4,
 "nbformat_minor": 4
}
