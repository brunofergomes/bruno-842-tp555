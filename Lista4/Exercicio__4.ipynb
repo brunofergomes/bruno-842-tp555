{
 "cells": [
  {
   "cell_type": "code",
   "execution_count": 9,
   "metadata": {},
   "outputs": [],
   "source": [
    "# Import all necessary libraries.\n",
    "import numpy as np\n",
    "from scipy.special import erfc\n",
    "from sklearn.model_selection import train_test_split\n",
    "from sklearn.naive_bayes import GaussianNB\n",
    "import matplotlib.pyplot as plt"
   ]
  },
  {
   "cell_type": "code",
   "execution_count": 10,
   "metadata": {},
   "outputs": [],
   "source": [
    "# Number of QPSK symbols to be transmitted.\n",
    "N = 1000000"
   ]
  },
  {
   "cell_type": "code",
   "execution_count": 11,
   "metadata": {},
   "outputs": [],
   "source": [
    "# Instantiate a Gaussian naive Bayes classifier for each one of the parts of a QPSK symbol.\n",
    "gnb_re = GaussianNB()\n",
    "gnb_im = GaussianNB()"
   ]
  },
  {
   "cell_type": "code",
   "execution_count": 12,
   "metadata": {},
   "outputs": [
    {
     "name": "stdout",
     "output_type": "stream",
     "text": [
      "Es/N0 dB: -2\n",
      "Es/N0 dB: 0\n",
      "Es/N0 dB: 2\n",
      "Es/N0 dB: 4\n",
      "Es/N0 dB: 6\n",
      "Es/N0 dB: 8\n",
      "Es/N0 dB: 10\n",
      "Es/N0 dB: 12\n",
      "Es/N0 dB: 14\n",
      "Es/N0 dB: 16\n",
      "Es/N0 dB: 18\n",
      "Es/N0 dB: 20\n"
     ]
    }
   ],
   "source": [
    "# Create Es/N0 vector.\n",
    "EsN0dB = np.arange(-2,22,2)\n",
    "\n",
    "ser_simu = np.zeros(len(EsN0dB))\n",
    "ser_theo = np.zeros(len(EsN0dB))\n",
    "\n",
    "for idx in range(0,len(EsN0dB)):\n",
    "    \n",
    "    print('Es/N0 dB:', EsN0dB[idx])\n",
    "    \n",
    "    EsN0Lin = 10.0**(-(EsN0dB[idx]/10.0))\n",
    "    \n",
    "    # Generate N QPSK symbols.\n",
    "    ip =(2.0 * (np.random.rand(N, 1) >= 0.5) - 1.0) + 1j*(2.0 * (np.random.rand(N, 1) >= 0.5) - 1.0)\n",
    "    \n",
    "    # Normalization of energy to 1.\n",
    "    s = (1/np.sqrt(2))*ip;\n",
    "    \n",
    "    # Generate noise vector. \n",
    "    # Divide by two once the theoretical ber uses a complex Normal pdf with variance of each part = 1/2.\n",
    "    noise = np.sqrt(1.0/2.0)*(np.random.randn(N, 1) + 1j*np.random.randn(N, 1))\n",
    "    \n",
    "    # Pass symbols through AWGN channel.\n",
    "    y = s + np.sqrt(EsN0Lin)*noise\n",
    "    \n",
    "    # Splitting data into real and imaginary parts\n",
    "    \n",
    "    x_test_re, x_train_re, y_test_re, y_train_re = train_test_split(ip.real, y.real)\n",
    "    \n",
    "    x_test_im, x_train_im, y_test_im, y_train_im = train_test_split(ip.imag, y.imag)\n",
    "    \n",
    "    # Fit models for real part.\n",
    "    gnb_re.fit(y_train_re, x_train_re.ravel())\n",
    "    \n",
    "    # Fit model for imaginary parts.\n",
    "    gnb_im.fit(y_train_im, x_train_im.ravel())\n",
    "    \n",
    "    # Prediction for real part.\n",
    "    detected_ip_re = gnb_re.predict(y_test_re)\n",
    "    detected_ip_re = detected_ip_re.reshape(len(y_test_re), 1)\n",
    "    \n",
    "    # Prediction for imaginary part.\n",
    "    detected_ip_im = gnb_im.predict(y_test_im)\n",
    "    detected_ip_im = detected_ip_im.reshape(len(y_test_im), 1)    \n",
    "        \n",
    "    # Simulated QPSK BER.\n",
    "    error_re = (x_test_re != detected_ip_re)\n",
    "    error_im = (x_test_im != detected_ip_im)\n",
    "    error = 0;\n",
    "    for i in range(0, len(x_test_re)): \n",
    "        if(error_re[i]==True or error_im[i]==True): \n",
    "            error = error + 1\n",
    "    \n",
    "    ser_simu[idx] = 1.0 * error / len(x_test_re)\n",
    "    \n",
    "    # Theoretical BPSK BER.    \n",
    "    ser_theo[idx] = erfc( np.sqrt(  0.5*(10.0**(EsN0dB[idx]/10.0))   ) ) - (1/4)*(erfc(np.sqrt(0.5*(10.0**(EsN0dB[idx]/10.0)))))**2.0;"
   ]
  },
  {
   "cell_type": "code",
   "execution_count": 13,
   "metadata": {},
   "outputs": [
    {
     "name": "stdout",
     "output_type": "stream",
     "text": [
      "[3.81568000e-01 2.91773333e-01 1.98582667e-01 1.09792000e-01\n",
      " 4.54333333e-02 1.20360000e-02 1.60000000e-03 6.13333333e-05\n",
      " 2.66666667e-06 0.00000000e+00 0.00000000e+00 0.00000000e+00]\n"
     ]
    }
   ],
   "source": [
    "print(ser_simu)"
   ]
  },
  {
   "cell_type": "code",
   "execution_count": 14,
   "metadata": {},
   "outputs": [
    {
     "data": {
      "image/png": "[encoded data removed]",
      "text/plain": [
       "<Figure size 360x360 with 1 Axes>"
      ]
     },
     "metadata": {
      "needs_background": "light"
     },
     "output_type": "display_data"
    }
   ],
   "source": [
    "#Es/N0 vs. SER teórica e simulada\n",
    "fig = plt.figure(figsize=(5,5))\n",
    "plt.plot(EsN0dB, ser_theo, label='theoretical')\n",
    "plt.plot(EsN0dB, ser_simu, 'ro', label='simulated')\n",
    "plt.xscale('linear')\n",
    "plt.yscale('log')\n",
    "plt.xlabel('Es/N0 [dB]')\n",
    "plt.ylabel('SER')\n",
    "plt.grid(True)\n",
    "plt.title('Detecção QPSK')\n",
    "plt.legend()\n",
    "plt.show()"
   ]
  },
  {
   "cell_type": "markdown",
   "metadata": {},
   "source": [
    "# Letra c)"
   ]
  },
  {
   "cell_type": "code",
   "execution_count": null,
   "metadata": {},
   "outputs": [],
   "source": [
    "'''\n",
    "Sim. As curvas técnica e simulada são bem aproximadas.\n",
    "\n",
    "'''"
   ]
  },
  {
   "cell_type": "markdown",
   "metadata": {},
   "source": [
    "# Letra d)"
   ]
  },
  {
   "cell_type": "code",
   "execution_count": null,
   "metadata": {},
   "outputs": [],
   "source": [
    "'''\n",
    "Não. Só podemos concluir que é a mesma equação do maximizador para MAP e ML se aos bits são atribuidas as mesmas probabilidades,\n",
    "isto é, sendo estes equiprováveis.\n",
    "\n",
    "'''"
   ]
  }
 ],
 "metadata": {
  "kernelspec": {
   "display_name": "Python 3",
   "language": "python",
   "name": "python3"
  },
  "language_info": {
   "codemirror_mode": {
    "name": "ipython",
    "version": 3
   },
   "file_extension": ".py",
   "mimetype": "text/x-python",
   "name": "python",
   "nbconvert_exporter": "python",
   "pygments_lexer": "ipython3",
   "version": "3.6.10"
  }
 },
 "nbformat": 4,
 "nbformat_minor": 2
}
